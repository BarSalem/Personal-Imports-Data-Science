{
 "cells": [
  {
   "cell_type": "code",
   "execution_count": 1,
   "id": "98c4a380",
   "metadata": {},
   "outputs": [],
   "source": [
    "import numpy as np\n",
    "import pandas as pd\n",
    "import seaborn as sns\n",
    "from matplotlib import pyplot as plt\n",
    "import warnings\n",
    "warnings.filterwarnings(\"ignore\")\n",
    "from scipy.stats import chi2_contingency\n",
    "import seaborn as sns\n",
    "from collections import Counter\n",
    "from sklearn.decomposition import PCA\n",
    "from sklearn import linear_model\n",
    "from sklearn.model_selection import train_test_split,cross_val_score\n",
    "from sklearn.linear_model import LinearRegression\n",
    "from sklearn.metrics import r2_score, f1_score\n",
    "from sklearn.preprocessing import MinMaxScaler\n",
    "from sklearn.svm import SVR\n",
    "\n",
    "df=pd.read_csv(\"AfterOutliers.csv\")"
   ]
  },
  {
   "cell_type": "code",
   "execution_count": 2,
   "id": "fd2e87af",
   "metadata": {},
   "outputs": [
    {
     "data": {
      "text/plain": [
       "6.0     3441\n",
       "4.0     2083\n",
       "8.0     1639\n",
       "7.0     1456\n",
       "3.0      666\n",
       "13.0     657\n",
       "12.0     436\n",
       "2.0      326\n",
       "18.0     295\n",
       "1.0      241\n",
       "9.0      239\n",
       "5.0      187\n",
       "33.0     141\n",
       "21.0     128\n",
       "22.0     125\n",
       "24.0     118\n",
       "14.0     103\n",
       "11.0      95\n",
       "10.0      54\n",
       "17.0      52\n",
       "20.0      51\n",
       "35.0      46\n",
       "19.0      41\n",
       "30.0      39\n",
       "32.0      33\n",
       "38.0      32\n",
       "25.0      27\n",
       "26.0      23\n",
       "15.0      13\n",
       "39.0       5\n",
       "23.0       4\n",
       "31.0       1\n",
       "Name: Brand, dtype: int64"
      ]
     },
     "execution_count": 2,
     "metadata": {},
     "output_type": "execute_result"
    }
   ],
   "source": [
    "df[\"Brand\"].value_counts()"
   ]
  },
  {
   "cell_type": "code",
   "execution_count": 3,
   "id": "73b07ffb",
   "metadata": {},
   "outputs": [
    {
     "data": {
      "text/html": [
       "<div>\n",
       "<style scoped>\n",
       "    .dataframe tbody tr th:only-of-type {\n",
       "        vertical-align: middle;\n",
       "    }\n",
       "\n",
       "    .dataframe tbody tr th {\n",
       "        vertical-align: top;\n",
       "    }\n",
       "\n",
       "    .dataframe thead th {\n",
       "        text-align: right;\n",
       "    }\n",
       "</style>\n",
       "<table border=\"1\" class=\"dataframe\">\n",
       "  <thead>\n",
       "    <tr style=\"text-align: right;\">\n",
       "      <th></th>\n",
       "      <th>Unnamed: 0</th>\n",
       "      <th>Unnamed: 0.1</th>\n",
       "      <th>number</th>\n",
       "      <th>Brand</th>\n",
       "      <th>Type of Vehicle</th>\n",
       "      <th>Production Year</th>\n",
       "      <th>EngineSize</th>\n",
       "      <th>Country</th>\n",
       "      <th>LastTestDT</th>\n",
       "      <th>TokefDT</th>\n",
       "      <th>Importer</th>\n",
       "      <th>RoadDT</th>\n",
       "      <th>Engine Type</th>\n",
       "    </tr>\n",
       "  </thead>\n",
       "  <tbody>\n",
       "    <tr>\n",
       "      <th>count</th>\n",
       "      <td>12797.000000</td>\n",
       "      <td>12797.000000</td>\n",
       "      <td>1.279700e+04</td>\n",
       "      <td>12797.000000</td>\n",
       "      <td>12797.0</td>\n",
       "      <td>12797.000000</td>\n",
       "      <td>12797.000000</td>\n",
       "      <td>12797.000000</td>\n",
       "      <td>12797.000000</td>\n",
       "      <td>12797.000000</td>\n",
       "      <td>12797.000000</td>\n",
       "      <td>12797.000000</td>\n",
       "      <td>12797.000000</td>\n",
       "    </tr>\n",
       "    <tr>\n",
       "      <th>mean</th>\n",
       "      <td>7693.672345</td>\n",
       "      <td>7693.672345</td>\n",
       "      <td>2.556485e+07</td>\n",
       "      <td>8.034149</td>\n",
       "      <td>1.0</td>\n",
       "      <td>2010.067281</td>\n",
       "      <td>2.683598</td>\n",
       "      <td>2.085176</td>\n",
       "      <td>2020.847386</td>\n",
       "      <td>2021.861843</td>\n",
       "      <td>1.098461</td>\n",
       "      <td>2010.067281</td>\n",
       "      <td>1.536845</td>\n",
       "    </tr>\n",
       "    <tr>\n",
       "      <th>std</th>\n",
       "      <td>4514.158012</td>\n",
       "      <td>4514.158012</td>\n",
       "      <td>3.265802e+07</td>\n",
       "      <td>5.941099</td>\n",
       "      <td>0.0</td>\n",
       "      <td>10.060838</td>\n",
       "      <td>1.223401</td>\n",
       "      <td>1.268414</td>\n",
       "      <td>0.420719</td>\n",
       "      <td>0.382255</td>\n",
       "      <td>0.297948</td>\n",
       "      <td>10.060838</td>\n",
       "      <td>0.956129</td>\n",
       "    </tr>\n",
       "    <tr>\n",
       "      <th>min</th>\n",
       "      <td>0.000000</td>\n",
       "      <td>0.000000</td>\n",
       "      <td>8.194500e+05</td>\n",
       "      <td>1.000000</td>\n",
       "      <td>1.0</td>\n",
       "      <td>1929.000000</td>\n",
       "      <td>1.000000</td>\n",
       "      <td>1.000000</td>\n",
       "      <td>2017.000000</td>\n",
       "      <td>2020.000000</td>\n",
       "      <td>1.000000</td>\n",
       "      <td>1929.000000</td>\n",
       "      <td>1.000000</td>\n",
       "    </tr>\n",
       "    <tr>\n",
       "      <th>25%</th>\n",
       "      <td>3885.000000</td>\n",
       "      <td>3885.000000</td>\n",
       "      <td>9.256571e+06</td>\n",
       "      <td>4.000000</td>\n",
       "      <td>1.0</td>\n",
       "      <td>2009.000000</td>\n",
       "      <td>2.000000</td>\n",
       "      <td>1.000000</td>\n",
       "      <td>2021.000000</td>\n",
       "      <td>2022.000000</td>\n",
       "      <td>1.000000</td>\n",
       "      <td>2009.000000</td>\n",
       "      <td>1.000000</td>\n",
       "    </tr>\n",
       "    <tr>\n",
       "      <th>50%</th>\n",
       "      <td>7545.000000</td>\n",
       "      <td>7545.000000</td>\n",
       "      <td>9.593379e+06</td>\n",
       "      <td>6.000000</td>\n",
       "      <td>1.0</td>\n",
       "      <td>2011.000000</td>\n",
       "      <td>3.000000</td>\n",
       "      <td>1.000000</td>\n",
       "      <td>2021.000000</td>\n",
       "      <td>2022.000000</td>\n",
       "      <td>1.000000</td>\n",
       "      <td>2011.000000</td>\n",
       "      <td>1.000000</td>\n",
       "    </tr>\n",
       "    <tr>\n",
       "      <th>75%</th>\n",
       "      <td>11574.000000</td>\n",
       "      <td>11574.000000</td>\n",
       "      <td>9.925274e+06</td>\n",
       "      <td>8.000000</td>\n",
       "      <td>1.0</td>\n",
       "      <td>2016.000000</td>\n",
       "      <td>3.000000</td>\n",
       "      <td>3.000000</td>\n",
       "      <td>2021.000000</td>\n",
       "      <td>2022.000000</td>\n",
       "      <td>1.000000</td>\n",
       "      <td>2016.000000</td>\n",
       "      <td>2.000000</td>\n",
       "    </tr>\n",
       "    <tr>\n",
       "      <th>max</th>\n",
       "      <td>15630.000000</td>\n",
       "      <td>15630.000000</td>\n",
       "      <td>9.263630e+07</td>\n",
       "      <td>39.000000</td>\n",
       "      <td>1.0</td>\n",
       "      <td>2021.000000</td>\n",
       "      <td>6.000000</td>\n",
       "      <td>6.000000</td>\n",
       "      <td>2021.000000</td>\n",
       "      <td>2023.000000</td>\n",
       "      <td>2.000000</td>\n",
       "      <td>2021.000000</td>\n",
       "      <td>5.000000</td>\n",
       "    </tr>\n",
       "  </tbody>\n",
       "</table>\n",
       "</div>"
      ],
      "text/plain": [
       "         Unnamed: 0  Unnamed: 0.1        number         Brand  \\\n",
       "count  12797.000000  12797.000000  1.279700e+04  12797.000000   \n",
       "mean    7693.672345   7693.672345  2.556485e+07      8.034149   \n",
       "std     4514.158012   4514.158012  3.265802e+07      5.941099   \n",
       "min        0.000000      0.000000  8.194500e+05      1.000000   \n",
       "25%     3885.000000   3885.000000  9.256571e+06      4.000000   \n",
       "50%     7545.000000   7545.000000  9.593379e+06      6.000000   \n",
       "75%    11574.000000  11574.000000  9.925274e+06      8.000000   \n",
       "max    15630.000000  15630.000000  9.263630e+07     39.000000   \n",
       "\n",
       "       Type of Vehicle  Production Year    EngineSize       Country  \\\n",
       "count          12797.0     12797.000000  12797.000000  12797.000000   \n",
       "mean               1.0      2010.067281      2.683598      2.085176   \n",
       "std                0.0        10.060838      1.223401      1.268414   \n",
       "min                1.0      1929.000000      1.000000      1.000000   \n",
       "25%                1.0      2009.000000      2.000000      1.000000   \n",
       "50%                1.0      2011.000000      3.000000      1.000000   \n",
       "75%                1.0      2016.000000      3.000000      3.000000   \n",
       "max                1.0      2021.000000      6.000000      6.000000   \n",
       "\n",
       "         LastTestDT       TokefDT      Importer        RoadDT   Engine Type  \n",
       "count  12797.000000  12797.000000  12797.000000  12797.000000  12797.000000  \n",
       "mean    2020.847386   2021.861843      1.098461   2010.067281      1.536845  \n",
       "std        0.420719      0.382255      0.297948     10.060838      0.956129  \n",
       "min     2017.000000   2020.000000      1.000000   1929.000000      1.000000  \n",
       "25%     2021.000000   2022.000000      1.000000   2009.000000      1.000000  \n",
       "50%     2021.000000   2022.000000      1.000000   2011.000000      1.000000  \n",
       "75%     2021.000000   2022.000000      1.000000   2016.000000      2.000000  \n",
       "max     2021.000000   2023.000000      2.000000   2021.000000      5.000000  "
      ]
     },
     "execution_count": 3,
     "metadata": {},
     "output_type": "execute_result"
    }
   ],
   "source": [
    "df.describe()"
   ]
  },
  {
   "cell_type": "code",
   "execution_count": 4,
   "id": "136f9b29",
   "metadata": {},
   "outputs": [],
   "source": [
    "df2=df.copy()"
   ]
  },
  {
   "cell_type": "code",
   "execution_count": 5,
   "id": "d4a2212e",
   "metadata": {},
   "outputs": [
    {
     "data": {
      "text/plain": [
       "0.25718958142096693"
      ]
     },
     "execution_count": 5,
     "metadata": {},
     "output_type": "execute_result"
    }
   ],
   "source": [
    "Y=df2[\"Production Year\"]\n",
    "X=df2[[\"Brand\",\"Engine Type\",\"number\",\"EngineSize\",\"Country\",\"Importer\",\"LastTestDT\",\"TokefDT\"]]\n",
    "X_train, X_test, y_train, y_test = train_test_split(X, Y, test_size=0.2)\n",
    "trained_model=LinearRegression()\n",
    "trained_model.fit(X_train,y_train)\n",
    "predicted_vals=trained_model.predict(X_test)\n",
    "r2_score(y_test,predicted_vals)"
   ]
  },
  {
   "cell_type": "code",
   "execution_count": null,
   "id": "5f29a4a3",
   "metadata": {},
   "outputs": [],
   "source": []
  },
  {
   "cell_type": "code",
   "execution_count": 6,
   "id": "fa5826ef",
   "metadata": {},
   "outputs": [
    {
     "data": {
      "text/html": [
       "<div>\n",
       "<style scoped>\n",
       "    .dataframe tbody tr th:only-of-type {\n",
       "        vertical-align: middle;\n",
       "    }\n",
       "\n",
       "    .dataframe tbody tr th {\n",
       "        vertical-align: top;\n",
       "    }\n",
       "\n",
       "    .dataframe thead th {\n",
       "        text-align: right;\n",
       "    }\n",
       "</style>\n",
       "<table border=\"1\" class=\"dataframe\">\n",
       "  <thead>\n",
       "    <tr style=\"text-align: right;\">\n",
       "      <th></th>\n",
       "      <th>Unnamed: 0</th>\n",
       "      <th>Unnamed: 0.1</th>\n",
       "      <th>number</th>\n",
       "      <th>Brand</th>\n",
       "      <th>Type of Vehicle</th>\n",
       "      <th>degemRehev</th>\n",
       "      <th>Production Year</th>\n",
       "      <th>EngineSize</th>\n",
       "      <th>Country</th>\n",
       "      <th>LastTestDT</th>\n",
       "      <th>TokefDT</th>\n",
       "      <th>Importer</th>\n",
       "      <th>RoadDT</th>\n",
       "      <th>Engine Type</th>\n",
       "    </tr>\n",
       "  </thead>\n",
       "  <tbody>\n",
       "    <tr>\n",
       "      <th>0</th>\n",
       "      <td>0</td>\n",
       "      <td>0</td>\n",
       "      <td>9933579</td>\n",
       "      <td>1.0</td>\n",
       "      <td>1.0</td>\n",
       "      <td>CK1506</td>\n",
       "      <td>2017</td>\n",
       "      <td>6.0</td>\n",
       "      <td>1.0</td>\n",
       "      <td>2021</td>\n",
       "      <td>2022</td>\n",
       "      <td>1</td>\n",
       "      <td>2017</td>\n",
       "      <td>1</td>\n",
       "    </tr>\n",
       "    <tr>\n",
       "      <th>1</th>\n",
       "      <td>1</td>\n",
       "      <td>1</td>\n",
       "      <td>9350173</td>\n",
       "      <td>2.0</td>\n",
       "      <td>1.0</td>\n",
       "      <td>אוברלנ שירוקי R6GG</td>\n",
       "      <td>2011</td>\n",
       "      <td>3.0</td>\n",
       "      <td>1.0</td>\n",
       "      <td>2021</td>\n",
       "      <td>2022</td>\n",
       "      <td>1</td>\n",
       "      <td>2011</td>\n",
       "      <td>1</td>\n",
       "    </tr>\n",
       "    <tr>\n",
       "      <th>2</th>\n",
       "      <td>2</td>\n",
       "      <td>2</td>\n",
       "      <td>9191555</td>\n",
       "      <td>3.0</td>\n",
       "      <td>1.0</td>\n",
       "      <td>מרקורי 3F92</td>\n",
       "      <td>1974</td>\n",
       "      <td>5.0</td>\n",
       "      <td>1.0</td>\n",
       "      <td>2021</td>\n",
       "      <td>2022</td>\n",
       "      <td>1</td>\n",
       "      <td>1974</td>\n",
       "      <td>1</td>\n",
       "    </tr>\n",
       "    <tr>\n",
       "      <th>3</th>\n",
       "      <td>3</td>\n",
       "      <td>3</td>\n",
       "      <td>9751173</td>\n",
       "      <td>4.0</td>\n",
       "      <td>1.0</td>\n",
       "      <td>סיינהGSL30L-PRTQKA</td>\n",
       "      <td>2012</td>\n",
       "      <td>3.0</td>\n",
       "      <td>1.0</td>\n",
       "      <td>2021</td>\n",
       "      <td>2022</td>\n",
       "      <td>1</td>\n",
       "      <td>2012</td>\n",
       "      <td>1</td>\n",
       "    </tr>\n",
       "    <tr>\n",
       "      <th>4</th>\n",
       "      <td>4</td>\n",
       "      <td>4</td>\n",
       "      <td>9990273</td>\n",
       "      <td>5.0</td>\n",
       "      <td>1.0</td>\n",
       "      <td>ZF13</td>\n",
       "      <td>2012</td>\n",
       "      <td>1.0</td>\n",
       "      <td>2.0</td>\n",
       "      <td>2020</td>\n",
       "      <td>2022</td>\n",
       "      <td>1</td>\n",
       "      <td>2012</td>\n",
       "      <td>1</td>\n",
       "    </tr>\n",
       "    <tr>\n",
       "      <th>...</th>\n",
       "      <td>...</td>\n",
       "      <td>...</td>\n",
       "      <td>...</td>\n",
       "      <td>...</td>\n",
       "      <td>...</td>\n",
       "      <td>...</td>\n",
       "      <td>...</td>\n",
       "      <td>...</td>\n",
       "      <td>...</td>\n",
       "      <td>...</td>\n",
       "      <td>...</td>\n",
       "      <td>...</td>\n",
       "      <td>...</td>\n",
       "      <td>...</td>\n",
       "    </tr>\n",
       "    <tr>\n",
       "      <th>12792</th>\n",
       "      <td>15626</td>\n",
       "      <td>15626</td>\n",
       "      <td>9888872</td>\n",
       "      <td>8.0</td>\n",
       "      <td>1.0</td>\n",
       "      <td>35D X5</td>\n",
       "      <td>2011</td>\n",
       "      <td>2.0</td>\n",
       "      <td>1.0</td>\n",
       "      <td>2021</td>\n",
       "      <td>2022</td>\n",
       "      <td>1</td>\n",
       "      <td>2011</td>\n",
       "      <td>4</td>\n",
       "    </tr>\n",
       "    <tr>\n",
       "      <th>12793</th>\n",
       "      <td>15627</td>\n",
       "      <td>15627</td>\n",
       "      <td>9532372</td>\n",
       "      <td>3.0</td>\n",
       "      <td>1.0</td>\n",
       "      <td>J5A</td>\n",
       "      <td>2011</td>\n",
       "      <td>3.0</td>\n",
       "      <td>1.0</td>\n",
       "      <td>2021</td>\n",
       "      <td>2022</td>\n",
       "      <td>1</td>\n",
       "      <td>2011</td>\n",
       "      <td>1</td>\n",
       "    </tr>\n",
       "    <tr>\n",
       "      <th>12794</th>\n",
       "      <td>15628</td>\n",
       "      <td>15628</td>\n",
       "      <td>9217572</td>\n",
       "      <td>4.0</td>\n",
       "      <td>1.0</td>\n",
       "      <td>GGL15L-CWTGKA</td>\n",
       "      <td>2011</td>\n",
       "      <td>3.0</td>\n",
       "      <td>1.0</td>\n",
       "      <td>2021</td>\n",
       "      <td>2022</td>\n",
       "      <td>2</td>\n",
       "      <td>2011</td>\n",
       "      <td>1</td>\n",
       "    </tr>\n",
       "    <tr>\n",
       "      <th>12795</th>\n",
       "      <td>15629</td>\n",
       "      <td>15629</td>\n",
       "      <td>9429478</td>\n",
       "      <td>9.0</td>\n",
       "      <td>1.0</td>\n",
       "      <td>ROVER EVOAUE A2BE</td>\n",
       "      <td>2015</td>\n",
       "      <td>2.0</td>\n",
       "      <td>5.0</td>\n",
       "      <td>2021</td>\n",
       "      <td>2022</td>\n",
       "      <td>1</td>\n",
       "      <td>2015</td>\n",
       "      <td>4</td>\n",
       "    </tr>\n",
       "    <tr>\n",
       "      <th>12796</th>\n",
       "      <td>15630</td>\n",
       "      <td>15630</td>\n",
       "      <td>9905174</td>\n",
       "      <td>4.0</td>\n",
       "      <td>1.0</td>\n",
       "      <td>GGL15L-CWTGKA</td>\n",
       "      <td>2012</td>\n",
       "      <td>3.0</td>\n",
       "      <td>4.0</td>\n",
       "      <td>2021</td>\n",
       "      <td>2022</td>\n",
       "      <td>1</td>\n",
       "      <td>2012</td>\n",
       "      <td>1</td>\n",
       "    </tr>\n",
       "  </tbody>\n",
       "</table>\n",
       "<p>12797 rows × 14 columns</p>\n",
       "</div>"
      ],
      "text/plain": [
       "       Unnamed: 0  Unnamed: 0.1   number  Brand  Type of Vehicle  \\\n",
       "0               0             0  9933579    1.0              1.0   \n",
       "1               1             1  9350173    2.0              1.0   \n",
       "2               2             2  9191555    3.0              1.0   \n",
       "3               3             3  9751173    4.0              1.0   \n",
       "4               4             4  9990273    5.0              1.0   \n",
       "...           ...           ...      ...    ...              ...   \n",
       "12792       15626         15626  9888872    8.0              1.0   \n",
       "12793       15627         15627  9532372    3.0              1.0   \n",
       "12794       15628         15628  9217572    4.0              1.0   \n",
       "12795       15629         15629  9429478    9.0              1.0   \n",
       "12796       15630         15630  9905174    4.0              1.0   \n",
       "\n",
       "               degemRehev  Production Year  EngineSize  Country  LastTestDT  \\\n",
       "0                  CK1506             2017         6.0      1.0        2021   \n",
       "1      אוברלנ שירוקי R6GG             2011         3.0      1.0        2021   \n",
       "2             מרקורי 3F92             1974         5.0      1.0        2021   \n",
       "3      סיינהGSL30L-PRTQKA             2012         3.0      1.0        2021   \n",
       "4                    ZF13             2012         1.0      2.0        2020   \n",
       "...                   ...              ...         ...      ...         ...   \n",
       "12792              35D X5             2011         2.0      1.0        2021   \n",
       "12793                 J5A             2011         3.0      1.0        2021   \n",
       "12794       GGL15L-CWTGKA             2011         3.0      1.0        2021   \n",
       "12795   ROVER EVOAUE A2BE             2015         2.0      5.0        2021   \n",
       "12796       GGL15L-CWTGKA             2012         3.0      4.0        2021   \n",
       "\n",
       "       TokefDT  Importer  RoadDT  Engine Type  \n",
       "0         2022         1    2017            1  \n",
       "1         2022         1    2011            1  \n",
       "2         2022         1    1974            1  \n",
       "3         2022         1    2012            1  \n",
       "4         2022         1    2012            1  \n",
       "...        ...       ...     ...          ...  \n",
       "12792     2022         1    2011            4  \n",
       "12793     2022         1    2011            1  \n",
       "12794     2022         2    2011            1  \n",
       "12795     2022         1    2015            4  \n",
       "12796     2022         1    2012            1  \n",
       "\n",
       "[12797 rows x 14 columns]"
      ]
     },
     "execution_count": 6,
     "metadata": {},
     "output_type": "execute_result"
    }
   ],
   "source": [
    "df2"
   ]
  },
  {
   "cell_type": "code",
   "execution_count": 7,
   "id": "ede8f059",
   "metadata": {},
   "outputs": [],
   "source": [
    "Y=df2[\"Production Year\"]\n",
    "X=df2[[\"Brand\",\"Engine Type\"]]\n",
    "Y=df2[\"Production Year\"]\n",
    "X=df2[[\"Brand\",\"Engine Type\",\"number\",\"EngineSize\",\"Country\",\"Importer\",\"LastTestDT\",\"TokefDT\"]]"
   ]
  },
  {
   "cell_type": "code",
   "execution_count": 8,
   "id": "c9028258",
   "metadata": {},
   "outputs": [
    {
     "data": {
      "text/html": [
       "<div>\n",
       "<style scoped>\n",
       "    .dataframe tbody tr th:only-of-type {\n",
       "        vertical-align: middle;\n",
       "    }\n",
       "\n",
       "    .dataframe tbody tr th {\n",
       "        vertical-align: top;\n",
       "    }\n",
       "\n",
       "    .dataframe thead th {\n",
       "        text-align: right;\n",
       "    }\n",
       "</style>\n",
       "<table border=\"1\" class=\"dataframe\">\n",
       "  <thead>\n",
       "    <tr style=\"text-align: right;\">\n",
       "      <th></th>\n",
       "      <th>Unnamed: 0</th>\n",
       "      <th>Unnamed: 0.1</th>\n",
       "      <th>number</th>\n",
       "      <th>Brand</th>\n",
       "      <th>Type of Vehicle</th>\n",
       "      <th>degemRehev</th>\n",
       "      <th>Production Year</th>\n",
       "      <th>EngineSize</th>\n",
       "      <th>Country</th>\n",
       "      <th>LastTestDT</th>\n",
       "      <th>TokefDT</th>\n",
       "      <th>Importer</th>\n",
       "      <th>RoadDT</th>\n",
       "      <th>Engine Type</th>\n",
       "    </tr>\n",
       "  </thead>\n",
       "  <tbody>\n",
       "    <tr>\n",
       "      <th>0</th>\n",
       "      <td>0</td>\n",
       "      <td>0</td>\n",
       "      <td>0.099264</td>\n",
       "      <td>0.000000</td>\n",
       "      <td>1.0</td>\n",
       "      <td>CK1506</td>\n",
       "      <td>2017</td>\n",
       "      <td>1.0</td>\n",
       "      <td>0.0</td>\n",
       "      <td>1.00</td>\n",
       "      <td>0.666667</td>\n",
       "      <td>0.0</td>\n",
       "      <td>2017</td>\n",
       "      <td>0.00</td>\n",
       "    </tr>\n",
       "    <tr>\n",
       "      <th>1</th>\n",
       "      <td>1</td>\n",
       "      <td>1</td>\n",
       "      <td>0.092910</td>\n",
       "      <td>0.026316</td>\n",
       "      <td>1.0</td>\n",
       "      <td>אוברלנ שירוקי R6GG</td>\n",
       "      <td>2011</td>\n",
       "      <td>0.4</td>\n",
       "      <td>0.0</td>\n",
       "      <td>1.00</td>\n",
       "      <td>0.666667</td>\n",
       "      <td>0.0</td>\n",
       "      <td>2011</td>\n",
       "      <td>0.00</td>\n",
       "    </tr>\n",
       "    <tr>\n",
       "      <th>2</th>\n",
       "      <td>2</td>\n",
       "      <td>2</td>\n",
       "      <td>0.091183</td>\n",
       "      <td>0.052632</td>\n",
       "      <td>1.0</td>\n",
       "      <td>מרקורי 3F92</td>\n",
       "      <td>1974</td>\n",
       "      <td>0.8</td>\n",
       "      <td>0.0</td>\n",
       "      <td>1.00</td>\n",
       "      <td>0.666667</td>\n",
       "      <td>0.0</td>\n",
       "      <td>1974</td>\n",
       "      <td>0.00</td>\n",
       "    </tr>\n",
       "    <tr>\n",
       "      <th>3</th>\n",
       "      <td>3</td>\n",
       "      <td>3</td>\n",
       "      <td>0.097278</td>\n",
       "      <td>0.078947</td>\n",
       "      <td>1.0</td>\n",
       "      <td>סיינהGSL30L-PRTQKA</td>\n",
       "      <td>2012</td>\n",
       "      <td>0.4</td>\n",
       "      <td>0.0</td>\n",
       "      <td>1.00</td>\n",
       "      <td>0.666667</td>\n",
       "      <td>0.0</td>\n",
       "      <td>2012</td>\n",
       "      <td>0.00</td>\n",
       "    </tr>\n",
       "    <tr>\n",
       "      <th>4</th>\n",
       "      <td>4</td>\n",
       "      <td>4</td>\n",
       "      <td>0.099882</td>\n",
       "      <td>0.105263</td>\n",
       "      <td>1.0</td>\n",
       "      <td>ZF13</td>\n",
       "      <td>2012</td>\n",
       "      <td>0.0</td>\n",
       "      <td>0.2</td>\n",
       "      <td>0.75</td>\n",
       "      <td>0.666667</td>\n",
       "      <td>0.0</td>\n",
       "      <td>2012</td>\n",
       "      <td>0.00</td>\n",
       "    </tr>\n",
       "    <tr>\n",
       "      <th>...</th>\n",
       "      <td>...</td>\n",
       "      <td>...</td>\n",
       "      <td>...</td>\n",
       "      <td>...</td>\n",
       "      <td>...</td>\n",
       "      <td>...</td>\n",
       "      <td>...</td>\n",
       "      <td>...</td>\n",
       "      <td>...</td>\n",
       "      <td>...</td>\n",
       "      <td>...</td>\n",
       "      <td>...</td>\n",
       "      <td>...</td>\n",
       "      <td>...</td>\n",
       "    </tr>\n",
       "    <tr>\n",
       "      <th>12792</th>\n",
       "      <td>15626</td>\n",
       "      <td>15626</td>\n",
       "      <td>0.098777</td>\n",
       "      <td>0.184211</td>\n",
       "      <td>1.0</td>\n",
       "      <td>35D X5</td>\n",
       "      <td>2011</td>\n",
       "      <td>0.2</td>\n",
       "      <td>0.0</td>\n",
       "      <td>1.00</td>\n",
       "      <td>0.666667</td>\n",
       "      <td>0.0</td>\n",
       "      <td>2011</td>\n",
       "      <td>0.75</td>\n",
       "    </tr>\n",
       "    <tr>\n",
       "      <th>12793</th>\n",
       "      <td>15627</td>\n",
       "      <td>15627</td>\n",
       "      <td>0.094895</td>\n",
       "      <td>0.052632</td>\n",
       "      <td>1.0</td>\n",
       "      <td>J5A</td>\n",
       "      <td>2011</td>\n",
       "      <td>0.4</td>\n",
       "      <td>0.0</td>\n",
       "      <td>1.00</td>\n",
       "      <td>0.666667</td>\n",
       "      <td>0.0</td>\n",
       "      <td>2011</td>\n",
       "      <td>0.00</td>\n",
       "    </tr>\n",
       "    <tr>\n",
       "      <th>12794</th>\n",
       "      <td>15628</td>\n",
       "      <td>15628</td>\n",
       "      <td>0.091466</td>\n",
       "      <td>0.078947</td>\n",
       "      <td>1.0</td>\n",
       "      <td>GGL15L-CWTGKA</td>\n",
       "      <td>2011</td>\n",
       "      <td>0.4</td>\n",
       "      <td>0.0</td>\n",
       "      <td>1.00</td>\n",
       "      <td>0.666667</td>\n",
       "      <td>1.0</td>\n",
       "      <td>2011</td>\n",
       "      <td>0.00</td>\n",
       "    </tr>\n",
       "    <tr>\n",
       "      <th>12795</th>\n",
       "      <td>15629</td>\n",
       "      <td>15629</td>\n",
       "      <td>0.093774</td>\n",
       "      <td>0.210526</td>\n",
       "      <td>1.0</td>\n",
       "      <td>ROVER EVOAUE A2BE</td>\n",
       "      <td>2015</td>\n",
       "      <td>0.2</td>\n",
       "      <td>0.8</td>\n",
       "      <td>1.00</td>\n",
       "      <td>0.666667</td>\n",
       "      <td>0.0</td>\n",
       "      <td>2015</td>\n",
       "      <td>0.75</td>\n",
       "    </tr>\n",
       "    <tr>\n",
       "      <th>12796</th>\n",
       "      <td>15630</td>\n",
       "      <td>15630</td>\n",
       "      <td>0.098955</td>\n",
       "      <td>0.078947</td>\n",
       "      <td>1.0</td>\n",
       "      <td>GGL15L-CWTGKA</td>\n",
       "      <td>2012</td>\n",
       "      <td>0.4</td>\n",
       "      <td>0.6</td>\n",
       "      <td>1.00</td>\n",
       "      <td>0.666667</td>\n",
       "      <td>0.0</td>\n",
       "      <td>2012</td>\n",
       "      <td>0.00</td>\n",
       "    </tr>\n",
       "  </tbody>\n",
       "</table>\n",
       "<p>12797 rows × 14 columns</p>\n",
       "</div>"
      ],
      "text/plain": [
       "       Unnamed: 0  Unnamed: 0.1    number     Brand  Type of Vehicle  \\\n",
       "0               0             0  0.099264  0.000000              1.0   \n",
       "1               1             1  0.092910  0.026316              1.0   \n",
       "2               2             2  0.091183  0.052632              1.0   \n",
       "3               3             3  0.097278  0.078947              1.0   \n",
       "4               4             4  0.099882  0.105263              1.0   \n",
       "...           ...           ...       ...       ...              ...   \n",
       "12792       15626         15626  0.098777  0.184211              1.0   \n",
       "12793       15627         15627  0.094895  0.052632              1.0   \n",
       "12794       15628         15628  0.091466  0.078947              1.0   \n",
       "12795       15629         15629  0.093774  0.210526              1.0   \n",
       "12796       15630         15630  0.098955  0.078947              1.0   \n",
       "\n",
       "               degemRehev  Production Year  EngineSize  Country  LastTestDT  \\\n",
       "0                  CK1506             2017         1.0      0.0        1.00   \n",
       "1      אוברלנ שירוקי R6GG             2011         0.4      0.0        1.00   \n",
       "2             מרקורי 3F92             1974         0.8      0.0        1.00   \n",
       "3      סיינהGSL30L-PRTQKA             2012         0.4      0.0        1.00   \n",
       "4                    ZF13             2012         0.0      0.2        0.75   \n",
       "...                   ...              ...         ...      ...         ...   \n",
       "12792              35D X5             2011         0.2      0.0        1.00   \n",
       "12793                 J5A             2011         0.4      0.0        1.00   \n",
       "12794       GGL15L-CWTGKA             2011         0.4      0.0        1.00   \n",
       "12795   ROVER EVOAUE A2BE             2015         0.2      0.8        1.00   \n",
       "12796       GGL15L-CWTGKA             2012         0.4      0.6        1.00   \n",
       "\n",
       "        TokefDT  Importer  RoadDT  Engine Type  \n",
       "0      0.666667       0.0    2017         0.00  \n",
       "1      0.666667       0.0    2011         0.00  \n",
       "2      0.666667       0.0    1974         0.00  \n",
       "3      0.666667       0.0    2012         0.00  \n",
       "4      0.666667       0.0    2012         0.00  \n",
       "...         ...       ...     ...          ...  \n",
       "12792  0.666667       0.0    2011         0.75  \n",
       "12793  0.666667       0.0    2011         0.00  \n",
       "12794  0.666667       1.0    2011         0.00  \n",
       "12795  0.666667       0.0    2015         0.75  \n",
       "12796  0.666667       0.0    2012         0.00  \n",
       "\n",
       "[12797 rows x 14 columns]"
      ]
     },
     "execution_count": 8,
     "metadata": {},
     "output_type": "execute_result"
    }
   ],
   "source": [
    "Y=df2[\"Production Year\"]\n",
    "X=df2[[\"Brand\",\"Engine Type\",\"number\",\"EngineSize\",\"Country\",\"Importer\",\"LastTestDT\",\"TokefDT\"]]\n",
    "scaler = MinMaxScaler()\n",
    "dfTest=df2.copy()\n",
    "dfTest[[\"Brand\",\"Engine Type\",\"number\",\"EngineSize\",\"Country\",\"Importer\",\"LastTestDT\",\"TokefDT\"]] = scaler.fit_transform(df2[[\"Brand\",\"Engine Type\",\"number\",\"EngineSize\",\"Country\",\"Importer\",\"LastTestDT\",\"TokefDT\"]])\n",
    "dfTest"
   ]
  },
  {
   "cell_type": "code",
   "execution_count": 9,
   "id": "7210cc75",
   "metadata": {},
   "outputs": [
    {
     "data": {
      "text/plain": [
       "0.18447056991934707"
      ]
     },
     "execution_count": 9,
     "metadata": {},
     "output_type": "execute_result"
    }
   ],
   "source": [
    "Y=dfTest[\"Production Year\"]\n",
    "X=dfTest[[\"Brand\",\"Engine Type\",\"EngineSize\",\"Country\",\"Importer\"]]\n",
    "X_train, X_test, y_train, y_test = train_test_split(X, Y, test_size=0.2)\n",
    "trained_model=LinearRegression()\n",
    "trained_model.fit(X_train,y_train)\n",
    "predicted_vals=trained_model.predict(X_test)\n",
    "r2_score(y_test,predicted_vals)"
   ]
  },
  {
   "cell_type": "code",
   "execution_count": 10,
   "id": "09e811ca",
   "metadata": {},
   "outputs": [
    {
     "data": {
      "text/plain": [
       "<matplotlib.collections.PathCollection at 0x22377bbbf10>"
      ]
     },
     "execution_count": 10,
     "metadata": {},
     "output_type": "execute_result"
    },
    {
     "data": {
      "image/png": "[encoded data removed]",
      "text/plain": [
       "<Figure size 432x288 with 1 Axes>"
      ]
     },
     "metadata": {
      "needs_background": "light"
     },
     "output_type": "display_data"
    }
   ],
   "source": [
    "plt.scatter(x=dfTest['Production Year'],y=dfTest['Brand'],c='k',marker='*',label='Newspaper')\n",
    "plt.scatter(x=dfTest['Production Year'],y=dfTest['number'],c='r',marker='+',label='Newspaper')\n",
    "plt.scatter(x=dfTest['Production Year'],y=dfTest['Importer'],c='b',marker='+',label='Newspaper')"
   ]
  },
  {
   "cell_type": "code",
   "execution_count": 11,
   "id": "5ecc9e42",
   "metadata": {},
   "outputs": [
    {
     "data": {
      "text/plain": [
       "11750"
      ]
     },
     "execution_count": 11,
     "metadata": {},
     "output_type": "execute_result"
    }
   ],
   "source": [
    "len(df2[df2[\"Production Year\"]>2000])"
   ]
  },
  {
   "cell_type": "code",
   "execution_count": 12,
   "id": "b6628317",
   "metadata": {},
   "outputs": [],
   "source": [
    "dfnew=dfTest.copy()"
   ]
  },
  {
   "cell_type": "code",
   "execution_count": 13,
   "id": "b3e05888",
   "metadata": {},
   "outputs": [
    {
     "data": {
      "text/plain": [
       "<matplotlib.collections.PathCollection at 0x22378c91fa0>"
      ]
     },
     "execution_count": 13,
     "metadata": {},
     "output_type": "execute_result"
    },
    {
     "data": {
      "image/png": "[encoded data removed]",
      "text/plain": [
       "<Figure size 432x288 with 1 Axes>"
      ]
     },
     "metadata": {
      "needs_background": "light"
     },
     "output_type": "display_data"
    }
   ],
   "source": [
    "dfnew=dfnew[dfnew[\"Production Year\"]>2000]\n",
    "plt.scatter(x=dfnew['Production Year'],y=dfnew['Brand'],c='k',marker='*',label='Newspaper')\n",
    "plt.scatter(x=dfnew['Production Year'],y=dfnew['number'],c='r',marker='+',label='Newspaper')\n",
    "plt.scatter(x=dfnew['Production Year'],y=dfnew['Importer'],c='b',marker='+',label='Newspaper')"
   ]
  },
  {
   "cell_type": "code",
   "execution_count": 14,
   "id": "7318fbab",
   "metadata": {},
   "outputs": [],
   "source": [
    "Y=dfnew[\"Production Year\"]\n",
    "X=dfnew[[\"Brand\",\"Engine Type\",\"number\",\"EngineSize\",\"Country\",\"Importer\",\"LastTestDT\",\"TokefDT\"]]\n",
    "X_train, X_test, y_train, y_test = train_test_split(X, Y, test_size=0.2)\n",
    "trained_model=LinearRegression()\n",
    "trained_model.fit(X_train,y_train)\n",
    "predicted_vals=trained_model.predict(X_test)"
   ]
  },
  {
   "cell_type": "code",
   "execution_count": 15,
   "id": "80a55f13",
   "metadata": {},
   "outputs": [
    {
     "name": "stdout",
     "output_type": "stream",
     "text": [
      "b1: [-1.65163675  0.51755982  6.43996723 -2.10551193  1.9841525   0.76072134\n",
      " -2.46472156  2.85865459]\n",
      "b0: 2011.8596911669736\n"
     ]
    },
    {
     "data": {
      "text/plain": [
       "0.5347618538373429"
      ]
     },
     "execution_count": 15,
     "metadata": {},
     "output_type": "execute_result"
    }
   ],
   "source": [
    "print(\"b1:\",trained_model.coef_)\n",
    "print(\"b0:\",trained_model.intercept_)\n",
    "r2_score(y_test,predicted_vals)"
   ]
  },
  {
   "cell_type": "code",
   "execution_count": null,
   "id": "4bda8dfe",
   "metadata": {},
   "outputs": [],
   "source": []
  },
  {
   "cell_type": "code",
   "execution_count": 16,
   "id": "d4aa2843",
   "metadata": {},
   "outputs": [
    {
     "name": "stdout",
     "output_type": "stream",
     "text": [
      "b1: [[-1.80154845  0.63695537  6.92018204 -1.88076917  2.19260305  0.59939247\n",
      "  -2.43284276  3.17432986]]\n",
      "b0: [2010.92311696]\n"
     ]
    },
    {
     "data": {
      "text/plain": [
       "0.5288813903740859"
      ]
     },
     "execution_count": 16,
     "metadata": {},
     "output_type": "execute_result"
    }
   ],
   "source": [
    "trained_model = SVR(kernel=\"linear\", gamma=\"auto\")\n",
    "trained_model.fit(X_train,y_train)\n",
    "pred=trained_model.predict(X_train)\n",
    "print(\"b1:\",trained_model.coef_)\n",
    "print(\"b0:\",trained_model.intercept_)\n",
    "r2_score(y_train,pred)"
   ]
  },
  {
   "cell_type": "code",
   "execution_count": null,
   "id": "d3625a0a",
   "metadata": {},
   "outputs": [],
   "source": []
  },
  {
   "cell_type": "code",
   "execution_count": 17,
   "id": "8ca6e832",
   "metadata": {},
   "outputs": [
    {
     "data": {
      "text/plain": [
       "0.00    7927\n",
       "0.25    1991\n",
       "0.75    1205\n",
       "0.50     625\n",
       "1.00       2\n",
       "Name: Engine Type, dtype: int64"
      ]
     },
     "execution_count": 17,
     "metadata": {},
     "output_type": "execute_result"
    }
   ],
   "source": [
    "dfnew[\"Engine Type\"].value_counts()"
   ]
  },
  {
   "cell_type": "code",
   "execution_count": 18,
   "id": "ab0047e5",
   "metadata": {},
   "outputs": [
    {
     "data": {
      "text/plain": [
       "625"
      ]
     },
     "execution_count": 18,
     "metadata": {},
     "output_type": "execute_result"
    }
   ],
   "source": [
    "len(dfnew[dfnew[\"Engine Type\"]==0.50])"
   ]
  },
  {
   "cell_type": "code",
   "execution_count": 19,
   "id": "42bc1166",
   "metadata": {},
   "outputs": [],
   "source": [
    "dfEngineChange=dfnew.copy()\n",
    "dfEngineChange=dfEngineChange[(dfEngineChange[\"Engine Type\"]!=0.5) & (dfEngineChange[\"Engine Type\"]!=1.0)]"
   ]
  },
  {
   "cell_type": "code",
   "execution_count": 20,
   "id": "359fa10f",
   "metadata": {},
   "outputs": [
    {
     "data": {
      "text/plain": [
       "0.00    7927\n",
       "0.25    1991\n",
       "0.75    1205\n",
       "Name: Engine Type, dtype: int64"
      ]
     },
     "execution_count": 20,
     "metadata": {},
     "output_type": "execute_result"
    }
   ],
   "source": [
    "dfEngineChange[\"Engine Type\"].value_counts()"
   ]
  },
  {
   "cell_type": "code",
   "execution_count": 21,
   "id": "c67d61a7",
   "metadata": {},
   "outputs": [
    {
     "data": {
      "text/plain": [
       "0.5381334450144761"
      ]
     },
     "execution_count": 21,
     "metadata": {},
     "output_type": "execute_result"
    }
   ],
   "source": [
    "Y=dfEngineChange[\"Production Year\"]\n",
    "X=dfEngineChange[[\"Brand\",\"Engine Type\",\"number\",\"EngineSize\",\"Country\",\"Importer\",\"LastTestDT\",\"TokefDT\"]]\n",
    "X_train, X_test, y_train, y_test = train_test_split(X, Y, test_size=0.2)\n",
    "trained_model=LinearRegression()\n",
    "trained_model.fit(X_train,y_train)\n",
    "predicted_vals=trained_model.predict(X_test)\n",
    "r2_score(y_test,predicted_vals)"
   ]
  },
  {
   "cell_type": "code",
   "execution_count": 22,
   "id": "def705b7",
   "metadata": {},
   "outputs": [
    {
     "data": {
      "text/plain": [
       "<AxesSubplot:title={'center':'Production Year'}, ylabel='Production Year'>"
      ]
     },
     "execution_count": 22,
     "metadata": {},
     "output_type": "execute_result"
    },
    {
     "data": {
      "image/png": "[encoded data removed]",
      "text/plain": [
       "<Figure size 1080x1080 with 2 Axes>"
      ]
     },
     "metadata": {},
     "output_type": "display_data"
    }
   ],
   "source": [
    "fig, axes = plt.subplots(1,2, figsize=(20,20))\n",
    "result=dfEngineChange[\"Engine Type\"].value_counts()\n",
    "sr=pd.Series(result)\n",
    "sr.plot(kind=\"pie\",figsize=(20,5),ax=axes[1],title=\"Engine Type\",fontsize=22,autopct='%1.1i%%')\n",
    "result=dfEngineChange[\"Production Year\"].value_counts()\n",
    "sr=pd.Series(result)\n",
    "sr.plot(kind=\"pie\",figsize=(15,15),ax=axes[0],title=\"Production Year\",fontsize=22,autopct='%1.1i%%')"
   ]
  },
  {
   "cell_type": "code",
   "execution_count": 23,
   "id": "7fdef897",
   "metadata": {},
   "outputs": [
    {
     "name": "stdout",
     "output_type": "stream",
     "text": [
      "Engine Type : 0=בנזין\n",
      "Engine Type : 0.25=היברידי\n",
      "Engine Type : 0.75=דיזל\n",
      "Importer : 1=משומש\n",
      "Importer : 0=חדש\n"
     ]
    }
   ],
   "source": [
    "arr=['קאדילאק', \"ג'יפ\" ,'פורד' ,'טויוטה', 'הונדה', 'מרצדס' ,'קרייזלר' ,'ב מ וו',\n",
    " 'לנדרובר' ,'לקסוס' ,'וולבו', 'פורשה' ,'שברולט', \"דודג'\" ,'אופל' ,'אלפא', 'יגואר',\n",
    " 'רובר' ,'יונדאי' ,'מרדצס' ,'אאודי' ,'ניסאן', 'בנטלי' ,'סובארו', 'סוזוקי',\n",
    " 'מיצובישי', \"לנצ'יה\" ,'למבורגיני' ,'דונקרוורת' ,'מ. ג', 'פיאט' ,'לינקולן',\n",
    " 'פולקסווגן', 'פרארי' ,'פונטיאק', 'סקודה', 'ימהה', 'האמר-ארהב\"' , 'וויט-וולוו',\n",
    " 'רנו' ,'מקלארין', 'סמארט' ,'מזדה' ,\"ג'י.אמ.סי\" ,'טריומף', 'רולס-רויס' ,'קיה',\n",
    " \"פיג'ו\", 'סיטרואן', 'הארלי' ,'טסלה' ,'ביואיק', 'קוואסאקי' ,'קי.טי.אמ' ,'אנפילד']\n",
    "print(\"Engine Type : 0=בנזין\")\n",
    "print(\"Engine Type : 0.25=היברידי\")\n",
    "print(\"Engine Type : 0.75=דיזל\")\n",
    "print(\"Importer : 1=משומש\")\n",
    "print(\"Importer : 0=חדש\")"
   ]
  },
  {
   "cell_type": "code",
   "execution_count": 24,
   "id": "5af8f0fc",
   "metadata": {},
   "outputs": [
    {
     "name": "stdout",
     "output_type": "stream",
     "text": [
      "Enter Brand:'By the place in array from right to left starting in 1'  1\n",
      "Enter Engine Type:1\n",
      "Enter Engine Size scaled from 1 to 6 :1\n",
      "Enter Importer:1\n"
     ]
    }
   ],
   "source": [
    "Brand=input(\"Enter Brand:'By the place in array from right to left starting in 1'  \")\n",
    "Engine_Type=input(\"Enter Engine Type:\")\n",
    "Engine_Size =input(\"Enter Engine Size scaled from 1 to 6 :\")\n",
    "Importer=input(\"Enter Importer:\")"
   ]
  },
  {
   "cell_type": "code",
   "execution_count": 25,
   "id": "9c330bfa",
   "metadata": {},
   "outputs": [
    {
     "data": {
      "text/plain": [
       "2010"
      ]
     },
     "execution_count": 25,
     "metadata": {},
     "output_type": "execute_result"
    }
   ],
   "source": [
    "Production_Year=-1.54*int(Brand) + 1.29*int(Engine_Type) -1.6*int(Engine_Size) + 0.73*int(Importer) + 2012\n",
    "int(Production_Year)"
   ]
  },
  {
   "cell_type": "code",
   "execution_count": 26,
   "id": "0fd528c8",
   "metadata": {},
   "outputs": [],
   "source": [
    "rslt_df = dfnew.loc[(dfnew['Brand'] == 0.131579) &\n",
    "              (dfnew['Production Year'] == 2012)]"
   ]
  },
  {
   "cell_type": "code",
   "execution_count": 27,
   "id": "9481dfa5",
   "metadata": {},
   "outputs": [
    {
     "data": {
      "text/plain": [
       "0"
      ]
     },
     "execution_count": 27,
     "metadata": {},
     "output_type": "execute_result"
    }
   ],
   "source": [
    "len(dfnew[dfnew['Brand'] == 0.131579])"
   ]
  },
  {
   "cell_type": "code",
   "execution_count": 28,
   "id": "0f851b91",
   "metadata": {},
   "outputs": [
    {
     "data": {
      "text/plain": [
       "0.131579    3228\n",
       "0.078947    2072\n",
       "0.184211    1556\n",
       "0.157895    1434\n",
       "0.052632     560\n",
       "0.315789     432\n",
       "0.289474     373\n",
       "0.026316     304\n",
       "0.447368     293\n",
       "0.210526     237\n",
       "0.105263     186\n",
       "0.000000     142\n",
       "0.526316     128\n",
       "0.605263     115\n",
       "0.552632     110\n",
       "0.842105     110\n",
       "0.342105      98\n",
       "0.263158      90\n",
       "0.236842      54\n",
       "0.500000      51\n",
       "0.473684      41\n",
       "0.973684      32\n",
       "0.631579      27\n",
       "0.657895      23\n",
       "0.421053      15\n",
       "0.894737      11\n",
       "0.368421      11\n",
       "0.815789       8\n",
       "1.000000       5\n",
       "0.578947       3\n",
       "0.789474       1\n",
       "Name: Brand, dtype: int64"
      ]
     },
     "execution_count": 28,
     "metadata": {},
     "output_type": "execute_result"
    }
   ],
   "source": [
    "dfnew[\"Brand\"].value_counts()"
   ]
  },
  {
   "cell_type": "code",
   "execution_count": 29,
   "id": "dd64617f",
   "metadata": {},
   "outputs": [
    {
     "data": {
      "text/html": [
       "<div>\n",
       "<style scoped>\n",
       "    .dataframe tbody tr th:only-of-type {\n",
       "        vertical-align: middle;\n",
       "    }\n",
       "\n",
       "    .dataframe tbody tr th {\n",
       "        vertical-align: top;\n",
       "    }\n",
       "\n",
       "    .dataframe thead th {\n",
       "        text-align: right;\n",
       "    }\n",
       "</style>\n",
       "<table border=\"1\" class=\"dataframe\">\n",
       "  <thead>\n",
       "    <tr style=\"text-align: right;\">\n",
       "      <th></th>\n",
       "      <th>Unnamed: 0</th>\n",
       "      <th>Unnamed: 0.1</th>\n",
       "      <th>number</th>\n",
       "      <th>Brand</th>\n",
       "      <th>Type of Vehicle</th>\n",
       "      <th>degemRehev</th>\n",
       "      <th>Production Year</th>\n",
       "      <th>EngineSize</th>\n",
       "      <th>Country</th>\n",
       "      <th>LastTestDT</th>\n",
       "      <th>TokefDT</th>\n",
       "      <th>Importer</th>\n",
       "      <th>RoadDT</th>\n",
       "      <th>Engine Type</th>\n",
       "    </tr>\n",
       "  </thead>\n",
       "  <tbody>\n",
       "    <tr>\n",
       "      <th>0</th>\n",
       "      <td>0</td>\n",
       "      <td>0</td>\n",
       "      <td>0.099264</td>\n",
       "      <td>0.000000</td>\n",
       "      <td>1.0</td>\n",
       "      <td>CK1506</td>\n",
       "      <td>2017</td>\n",
       "      <td>1.0</td>\n",
       "      <td>0.0</td>\n",
       "      <td>1.00</td>\n",
       "      <td>0.666667</td>\n",
       "      <td>0.0</td>\n",
       "      <td>2017</td>\n",
       "      <td>0.00</td>\n",
       "    </tr>\n",
       "    <tr>\n",
       "      <th>1</th>\n",
       "      <td>1</td>\n",
       "      <td>1</td>\n",
       "      <td>0.092910</td>\n",
       "      <td>0.026316</td>\n",
       "      <td>1.0</td>\n",
       "      <td>אוברלנ שירוקי R6GG</td>\n",
       "      <td>2011</td>\n",
       "      <td>0.4</td>\n",
       "      <td>0.0</td>\n",
       "      <td>1.00</td>\n",
       "      <td>0.666667</td>\n",
       "      <td>0.0</td>\n",
       "      <td>2011</td>\n",
       "      <td>0.00</td>\n",
       "    </tr>\n",
       "    <tr>\n",
       "      <th>3</th>\n",
       "      <td>3</td>\n",
       "      <td>3</td>\n",
       "      <td>0.097278</td>\n",
       "      <td>0.078947</td>\n",
       "      <td>1.0</td>\n",
       "      <td>סיינהGSL30L-PRTQKA</td>\n",
       "      <td>2012</td>\n",
       "      <td>0.4</td>\n",
       "      <td>0.0</td>\n",
       "      <td>1.00</td>\n",
       "      <td>0.666667</td>\n",
       "      <td>0.0</td>\n",
       "      <td>2012</td>\n",
       "      <td>0.00</td>\n",
       "    </tr>\n",
       "    <tr>\n",
       "      <th>4</th>\n",
       "      <td>4</td>\n",
       "      <td>4</td>\n",
       "      <td>0.099882</td>\n",
       "      <td>0.105263</td>\n",
       "      <td>1.0</td>\n",
       "      <td>ZF13</td>\n",
       "      <td>2012</td>\n",
       "      <td>0.0</td>\n",
       "      <td>0.2</td>\n",
       "      <td>0.75</td>\n",
       "      <td>0.666667</td>\n",
       "      <td>0.0</td>\n",
       "      <td>2012</td>\n",
       "      <td>0.00</td>\n",
       "    </tr>\n",
       "    <tr>\n",
       "      <th>5</th>\n",
       "      <td>5</td>\n",
       "      <td>5</td>\n",
       "      <td>0.098163</td>\n",
       "      <td>0.078947</td>\n",
       "      <td>1.0</td>\n",
       "      <td>קאמריASV40L-CETSKA</td>\n",
       "      <td>2012</td>\n",
       "      <td>0.2</td>\n",
       "      <td>0.0</td>\n",
       "      <td>1.00</td>\n",
       "      <td>0.666667</td>\n",
       "      <td>0.0</td>\n",
       "      <td>2012</td>\n",
       "      <td>0.00</td>\n",
       "    </tr>\n",
       "    <tr>\n",
       "      <th>...</th>\n",
       "      <td>...</td>\n",
       "      <td>...</td>\n",
       "      <td>...</td>\n",
       "      <td>...</td>\n",
       "      <td>...</td>\n",
       "      <td>...</td>\n",
       "      <td>...</td>\n",
       "      <td>...</td>\n",
       "      <td>...</td>\n",
       "      <td>...</td>\n",
       "      <td>...</td>\n",
       "      <td>...</td>\n",
       "      <td>...</td>\n",
       "      <td>...</td>\n",
       "    </tr>\n",
       "    <tr>\n",
       "      <th>12792</th>\n",
       "      <td>15626</td>\n",
       "      <td>15626</td>\n",
       "      <td>0.098777</td>\n",
       "      <td>0.184211</td>\n",
       "      <td>1.0</td>\n",
       "      <td>35D X5</td>\n",
       "      <td>2011</td>\n",
       "      <td>0.2</td>\n",
       "      <td>0.0</td>\n",
       "      <td>1.00</td>\n",
       "      <td>0.666667</td>\n",
       "      <td>0.0</td>\n",
       "      <td>2011</td>\n",
       "      <td>0.75</td>\n",
       "    </tr>\n",
       "    <tr>\n",
       "      <th>12793</th>\n",
       "      <td>15627</td>\n",
       "      <td>15627</td>\n",
       "      <td>0.094895</td>\n",
       "      <td>0.052632</td>\n",
       "      <td>1.0</td>\n",
       "      <td>J5A</td>\n",
       "      <td>2011</td>\n",
       "      <td>0.4</td>\n",
       "      <td>0.0</td>\n",
       "      <td>1.00</td>\n",
       "      <td>0.666667</td>\n",
       "      <td>0.0</td>\n",
       "      <td>2011</td>\n",
       "      <td>0.00</td>\n",
       "    </tr>\n",
       "    <tr>\n",
       "      <th>12794</th>\n",
       "      <td>15628</td>\n",
       "      <td>15628</td>\n",
       "      <td>0.091466</td>\n",
       "      <td>0.078947</td>\n",
       "      <td>1.0</td>\n",
       "      <td>GGL15L-CWTGKA</td>\n",
       "      <td>2011</td>\n",
       "      <td>0.4</td>\n",
       "      <td>0.0</td>\n",
       "      <td>1.00</td>\n",
       "      <td>0.666667</td>\n",
       "      <td>1.0</td>\n",
       "      <td>2011</td>\n",
       "      <td>0.00</td>\n",
       "    </tr>\n",
       "    <tr>\n",
       "      <th>12795</th>\n",
       "      <td>15629</td>\n",
       "      <td>15629</td>\n",
       "      <td>0.093774</td>\n",
       "      <td>0.210526</td>\n",
       "      <td>1.0</td>\n",
       "      <td>ROVER EVOAUE A2BE</td>\n",
       "      <td>2015</td>\n",
       "      <td>0.2</td>\n",
       "      <td>0.8</td>\n",
       "      <td>1.00</td>\n",
       "      <td>0.666667</td>\n",
       "      <td>0.0</td>\n",
       "      <td>2015</td>\n",
       "      <td>0.75</td>\n",
       "    </tr>\n",
       "    <tr>\n",
       "      <th>12796</th>\n",
       "      <td>15630</td>\n",
       "      <td>15630</td>\n",
       "      <td>0.098955</td>\n",
       "      <td>0.078947</td>\n",
       "      <td>1.0</td>\n",
       "      <td>GGL15L-CWTGKA</td>\n",
       "      <td>2012</td>\n",
       "      <td>0.4</td>\n",
       "      <td>0.6</td>\n",
       "      <td>1.00</td>\n",
       "      <td>0.666667</td>\n",
       "      <td>0.0</td>\n",
       "      <td>2012</td>\n",
       "      <td>0.00</td>\n",
       "    </tr>\n",
       "  </tbody>\n",
       "</table>\n",
       "<p>11750 rows × 14 columns</p>\n",
       "</div>"
      ],
      "text/plain": [
       "       Unnamed: 0  Unnamed: 0.1    number     Brand  Type of Vehicle  \\\n",
       "0               0             0  0.099264  0.000000              1.0   \n",
       "1               1             1  0.092910  0.026316              1.0   \n",
       "3               3             3  0.097278  0.078947              1.0   \n",
       "4               4             4  0.099882  0.105263              1.0   \n",
       "5               5             5  0.098163  0.078947              1.0   \n",
       "...           ...           ...       ...       ...              ...   \n",
       "12792       15626         15626  0.098777  0.184211              1.0   \n",
       "12793       15627         15627  0.094895  0.052632              1.0   \n",
       "12794       15628         15628  0.091466  0.078947              1.0   \n",
       "12795       15629         15629  0.093774  0.210526              1.0   \n",
       "12796       15630         15630  0.098955  0.078947              1.0   \n",
       "\n",
       "               degemRehev  Production Year  EngineSize  Country  LastTestDT  \\\n",
       "0                  CK1506             2017         1.0      0.0        1.00   \n",
       "1      אוברלנ שירוקי R6GG             2011         0.4      0.0        1.00   \n",
       "3      סיינהGSL30L-PRTQKA             2012         0.4      0.0        1.00   \n",
       "4                    ZF13             2012         0.0      0.2        0.75   \n",
       "5      קאמריASV40L-CETSKA             2012         0.2      0.0        1.00   \n",
       "...                   ...              ...         ...      ...         ...   \n",
       "12792              35D X5             2011         0.2      0.0        1.00   \n",
       "12793                 J5A             2011         0.4      0.0        1.00   \n",
       "12794       GGL15L-CWTGKA             2011         0.4      0.0        1.00   \n",
       "12795   ROVER EVOAUE A2BE             2015         0.2      0.8        1.00   \n",
       "12796       GGL15L-CWTGKA             2012         0.4      0.6        1.00   \n",
       "\n",
       "        TokefDT  Importer  RoadDT  Engine Type  \n",
       "0      0.666667       0.0    2017         0.00  \n",
       "1      0.666667       0.0    2011         0.00  \n",
       "3      0.666667       0.0    2012         0.00  \n",
       "4      0.666667       0.0    2012         0.00  \n",
       "5      0.666667       0.0    2012         0.00  \n",
       "...         ...       ...     ...          ...  \n",
       "12792  0.666667       0.0    2011         0.75  \n",
       "12793  0.666667       0.0    2011         0.00  \n",
       "12794  0.666667       1.0    2011         0.00  \n",
       "12795  0.666667       0.0    2015         0.75  \n",
       "12796  0.666667       0.0    2012         0.00  \n",
       "\n",
       "[11750 rows x 14 columns]"
      ]
     },
     "execution_count": 29,
     "metadata": {},
     "output_type": "execute_result"
    }
   ],
   "source": [
    "heat=dfnew.copy()\n",
    "heat"
   ]
  },
  {
   "cell_type": "code",
   "execution_count": 30,
   "id": "2c5df408",
   "metadata": {},
   "outputs": [],
   "source": [
    "heat.drop([\"Type of Vehicle\"],axis=1,inplace=True)"
   ]
  },
  {
   "cell_type": "code",
   "execution_count": 31,
   "id": "9916e822",
   "metadata": {},
   "outputs": [
    {
     "data": {
      "text/plain": [
       "<AxesSubplot:>"
      ]
     },
     "execution_count": 31,
     "metadata": {},
     "output_type": "execute_result"
    },
    {
     "data": {
      "image/png": "[encoded data removed]",
      "text/plain": [
       "<Figure size 720x720 with 2 Axes>"
      ]
     },
     "metadata": {
      "needs_background": "light"
     },
     "output_type": "display_data"
    }
   ],
   "source": [
    "fig, ax = plt.subplots(figsize=(10,10))\n",
    "sns.heatmap(heat.corr(),ax=ax)"
   ]
  },
  {
   "cell_type": "code",
   "execution_count": 36,
   "id": "f1568ec3",
   "metadata": {},
   "outputs": [
    {
     "data": {
      "text/plain": [
       "2009    1541\n",
       "2010    1538\n",
       "2008    1069\n",
       "2017     973\n",
       "2011     918\n",
       "2018     868\n",
       "2012     862\n",
       "2016     822\n",
       "2013     758\n",
       "2014     665\n",
       "2015     596\n",
       "2019     521\n",
       "2020     245\n",
       "2007     169\n",
       "2021      69\n",
       "2006      52\n",
       "2005      25\n",
       "2004      24\n",
       "2003      20\n",
       "2001       9\n",
       "2002       6\n",
       "Name: Production Year, dtype: int64"
      ]
     },
     "execution_count": 36,
     "metadata": {},
     "output_type": "execute_result"
    }
   ],
   "source": [
    "dfnew[\"Production Year\"].value_counts()"
   ]
  },
  {
   "cell_type": "code",
   "execution_count": 47,
   "id": "9cec42e3",
   "metadata": {},
   "outputs": [
    {
     "data": {
      "text/plain": [
       "0.10204760782894129"
      ]
     },
     "execution_count": 47,
     "metadata": {},
     "output_type": "execute_result"
    }
   ],
   "source": [
    "Y=dfnew[\"Brand\"]\n",
    "X=dfnew[[\"Production Year\",\"Importer\",\"number\",\"Engine Type\",\"EngineSize\",\"Country\",\"LastTestDT\",\"TokefDT\"]]\n",
    "X_train, X_test, y_train, y_test = train_test_split(X, Y, test_size=0.2)\n",
    "trained_model=LinearRegression()\n",
    "trained_model.fit(X_train,y_train)\n",
    "predicted_vals=trained_model.predict(X_test)\n",
    "r2_score(y_test,predicted_vals)"
   ]
  },
  {
   "cell_type": "code",
   "execution_count": null,
   "id": "a7fa19f4",
   "metadata": {},
   "outputs": [],
   "source": []
  },
  {
   "cell_type": "code",
   "execution_count": null,
   "id": "31945324",
   "metadata": {},
   "outputs": [],
   "source": []
  }
 ],
 "metadata": {
  "kernelspec": {
   "display_name": "Python 3 (ipykernel)",
   "language": "python",
   "name": "python3"
  },
  "language_info": {
   "codemirror_mode": {
    "name": "ipython",
    "version": 3
   },
   "file_extension": ".py",
   "mimetype": "text/x-python",
   "name": "python",
   "nbconvert_exporter": "python",
   "pygments_lexer": "ipython3",
   "version": "3.9.7"
  }
 },
 "nbformat": 4,
 "nbformat_minor": 5
}
