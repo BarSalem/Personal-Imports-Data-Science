{
 "cells": [
  {
   "cell_type": "code",
   "execution_count": 27,
   "id": "13388218",
   "metadata": {},
   "outputs": [],
   "source": []
  },
  {
   "cell_type": "code",
   "execution_count": 1,
   "id": "7d3962c0",
   "metadata": {
    "scrolled": true
   },
   "outputs": [
    {
     "name": "stderr",
     "output_type": "stream",
     "text": [
      "C:\\Users\\97252\\AppData\\Local\\Temp/ipykernel_14224/803145894.py:17: DeprecationWarning: executable_path has been deprecated, please pass in a Service object\n",
      "  driver = webdriver.Chrome(options=options, executable_path=r\"C:\\Program Files (x86)\\chromedriver.exe\")\n",
      "C:\\Users\\97252\\AppData\\Local\\Temp/ipykernel_14224/803145894.py:29: DeprecationWarning: find_element_by_* commands are deprecated. Please use find_element() instead\n",
      "  src = driver.find_element_by_tag_name(\"iframe\").get_attribute(\"src\")\n"
     ]
    }
   ],
   "source": [
    "from selenium import webdriver\n",
    "from selenium_stealth import stealth\n",
    "from selenium.webdriver.chrome.service import Service\n",
    "from selenium.webdriver.common.keys import Keys\n",
    "from selenium.webdriver.common.by import By\n",
    "from selenium.webdriver.support.ui import WebDriverWait\n",
    "from selenium.webdriver.support import expected_conditions\n",
    "from selenium.common.exceptions import NoSuchElementException\n",
    "from selenium.common.exceptions import StaleElementReferenceException\n",
    "import numpy as np\n",
    "import pandas as pd\n",
    "import time\n",
    "options = webdriver.ChromeOptions()\n",
    "options.add_argument(\"start-maximized\")\n",
    "options.add_experimental_option(\"excludeSwitches\", [\"enable-automation\"])\n",
    "options.add_experimental_option('useAutomationExtension', False)\n",
    "driver = webdriver.Chrome(options=options, executable_path=r\"C:\\Program Files (x86)\\chromedriver.exe\")\n",
    "stealth(driver,\n",
    "        languages=[\"en-US\", \"en\"],\n",
    "        vendor=\"Google Inc.\",\n",
    "        platform=\"Win32\",\n",
    "        webgl_vendor=\"Intel Inc.\",\n",
    "        renderer=\"Intel Iris OpenGL Engine\",\n",
    "        fix_hairline=True,\n",
    "        )\n",
    "url = \"https://data.gov.il/dataset/personal_import_vehicles/resource/03adc637-b6fe-402b-9937-7c3d3afc9140\"\n",
    "driver.get(url)\n",
    "driver.implicitly_wait(30)\n",
    "src = driver.find_element_by_tag_name(\"iframe\").get_attribute(\"src\")\n",
    "driver.get(src)"
   ]
  },
  {
   "cell_type": "code",
   "execution_count": 2,
   "id": "7f2f2add",
   "metadata": {},
   "outputs": [
    {
     "name": "stderr",
     "output_type": "stream",
     "text": [
      "C:\\Users\\97252\\AppData\\Local\\Temp/ipykernel_14224/3952070106.py:7: DeprecationWarning: find_element_by_* commands are deprecated. Please use find_element() instead\n",
      "  element = driver.find_element_by_id(\"from\").clear()\n",
      "C:\\Users\\97252\\AppData\\Local\\Temp/ipykernel_14224/3952070106.py:8: DeprecationWarning: find_element_by_* commands are deprecated. Please use find_element() instead\n",
      "  element = driver.find_element_by_id(\"from\")\n",
      "C:\\Users\\97252\\AppData\\Local\\Temp/ipykernel_14224/3952070106.py:12: DeprecationWarning: find_element_by_* commands are deprecated. Please use find_element() instead\n",
      "  element = driver.find_element_by_id(\"to\").clear()\n",
      "C:\\Users\\97252\\AppData\\Local\\Temp/ipykernel_14224/3952070106.py:13: DeprecationWarning: find_element_by_* commands are deprecated. Please use find_element() instead\n",
      "  element = driver.find_element_by_id(\"to\")\n",
      "C:\\Users\\97252\\AppData\\Local\\Temp/ipykernel_14224/3952070106.py:19: DeprecationWarning: find_element_by_* commands are deprecated. Please use find_element() instead\n",
      "  sub = driver.find_element_by_xpath(f\"/html/body/div/div/div[4]/div[1]/div[5]/div/div[{i}]\")\n",
      "C:\\Users\\97252\\anaconda\\lib\\site-packages\\selenium\\webdriver\\remote\\webelement.py:359: UserWarning: find_elements_by_* commands are deprecated. Please use find_elements() instead\n",
      "  warnings.warn(\"find_elements_by_* commands are deprecated. Please use find_elements() instead\")\n"
     ]
    }
   ],
   "source": [
    "time.sleep(2)\n",
    "start=1\n",
    "end=20\n",
    "full_list =[]\n",
    "while(end<40):\n",
    "    element = WebDriverWait(driver, 100).until(expected_conditions.presence_of_element_located((By.ID, \"from\")))\n",
    "    element = driver.find_element_by_id(\"from\").clear()\n",
    "    element = driver.find_element_by_id(\"from\")\n",
    "    element.send_keys(Keys.CONTROL + \"a\")\n",
    "    element.send_keys(str(start))\n",
    "    element = WebDriverWait(driver, 100).until(expected_conditions.presence_of_element_located((By.ID, \"to\")))\n",
    "    element = driver.find_element_by_id(\"to\").clear()\n",
    "    element = driver.find_element_by_id(\"to\")\n",
    "    element.send_keys(Keys.CONTROL + \"a\")\n",
    "    element.send_keys(str(end))\n",
    "    element.send_keys(Keys.RETURN)\n",
    "    time.sleep(0.5)\n",
    "    for i in range(1,20):\n",
    "        sub = driver.find_element_by_xpath(f\"/html/body/div/div/div[4]/div[1]/div[5]/div/div[{i}]\")\n",
    "        sub_list = []\n",
    "        divs = sub.find_elements_by_tag_name(\"div\")\n",
    "        for i in divs:\n",
    "            sub_list.append(i.text)\n",
    "        full_list.append(sub_list)\n",
    "    start+=20\n",
    "    end+=20"
   ]
  },
  {
   "cell_type": "code",
   "execution_count": 32,
   "id": "2e94cd09",
   "metadata": {},
   "outputs": [
    {
     "name": "stdout",
     "output_type": "stream",
     "text": [
      "18079\n"
     ]
    }
   ],
   "source": [
    "print(len(full_list))"
   ]
  },
  {
   "cell_type": "code",
   "execution_count": 33,
   "id": "394ec457",
   "metadata": {},
   "outputs": [],
   "source": [
    "df=pd.DataFrame(full_list,columns=[\"id\",\"number\",\"shilda\",\"tozeretCD\",\"typeofVeicle\",\"sugRehev\",\"brand\",\"degemRehev\",\"mishkal\",\"shnatYitzur\",\"EngineSize\",\"country\",\"EngineModel\",\"LastTestDT\",\"TokefDT\",\"Importer\",\"RoadDT\",\"Gasoline\"])\n",
    "df.to_csv('FirstDF.csv',encoding='utf-8-sig',date_format='%Y-%m-%d')"
   ]
  },
  {
   "cell_type": "code",
   "execution_count": null,
   "id": "c0fa84ac",
   "metadata": {},
   "outputs": [],
   "source": []
  }
 ],
 "metadata": {
  "kernelspec": {
   "display_name": "Python 3 (ipykernel)",
   "language": "python",
   "name": "python3"
  },
  "language_info": {
   "codemirror_mode": {
    "name": "ipython",
    "version": 3
   },
   "file_extension": ".py",
   "mimetype": "text/x-python",
   "name": "python",
   "nbconvert_exporter": "python",
   "pygments_lexer": "ipython3",
   "version": "3.9.7"
  }
 },
 "nbformat": 4,
 "nbformat_minor": 5
}
